{
 "cells": [
  {
   "cell_type": "code",
   "execution_count": 6,
   "id": "parental-twelve",
   "metadata": {},
   "outputs": [],
   "source": [
    "import pandas as pd\n",
    "import numpy as np\n",
    "import os\n",
    "from sklearn.model_selection import train_test_split\n",
    "from ast import literal_eval\n",
    "import json"
   ]
  },
  {
   "cell_type": "code",
   "execution_count": 22,
   "id": "french-apartment",
   "metadata": {},
   "outputs": [],
   "source": [
    "train_light_en = \"../Datasets/smart-devices-en-fr/smart-lights-en-close.csv\"\n",
    "train_speaker_en = \"../Datasets/smart-devices-en-fr/smart-speaker-en-close.csv\"\n",
    "train_speaker_fr = \"../Datasets/smart-devices-en-fr/smart-speaker-fr-close.csv\""
   ]
  },
  {
   "cell_type": "code",
   "execution_count": 11,
   "id": "japanese-attachment",
   "metadata": {},
   "outputs": [],
   "source": [
    "df_light_en = pd.read_csv(train_light_en, header=0)"
   ]
  },
  {
   "cell_type": "code",
   "execution_count": 12,
   "id": "provincial-optimum",
   "metadata": {},
   "outputs": [
    {
     "data": {
      "text/html": [
       "<div>\n",
       "<style scoped>\n",
       "    .dataframe tbody tr th:only-of-type {\n",
       "        vertical-align: middle;\n",
       "    }\n",
       "\n",
       "    .dataframe tbody tr th {\n",
       "        vertical-align: top;\n",
       "    }\n",
       "\n",
       "    .dataframe thead th {\n",
       "        text-align: right;\n",
       "    }\n",
       "</style>\n",
       "<table border=\"1\" class=\"dataframe\">\n",
       "  <thead>\n",
       "    <tr style=\"text-align: right;\">\n",
       "      <th></th>\n",
       "      <th>id</th>\n",
       "      <th>phones</th>\n",
       "      <th>label</th>\n",
       "      <th>intent</th>\n",
       "      <th>text</th>\n",
       "      <th>data-type</th>\n",
       "      <th>file</th>\n",
       "    </tr>\n",
       "  </thead>\n",
       "  <tbody>\n",
       "    <tr>\n",
       "      <th>0</th>\n",
       "      <td>0</td>\n",
       "      <td>['ɒ', 's', 't', 'ɻ̩', 'v', 'ɒ', 'i', 'b̞', 'ɔ'...</td>\n",
       "      <td>5</td>\n",
       "      <td>SwitchLightOn</td>\n",
       "      <td>Activate all the lights in the entire house.</td>\n",
       "      <td>smart-lights-en-close</td>\n",
       "      <td>0.wav</td>\n",
       "    </tr>\n",
       "    <tr>\n",
       "      <th>1</th>\n",
       "      <td>1</td>\n",
       "      <td>['a', 'x', 'ə', 'v', 'ɪ', 'n', 't', 'v', 'ɛ', ...</td>\n",
       "      <td>5</td>\n",
       "      <td>SwitchLightOn</td>\n",
       "      <td>Activate basement lights</td>\n",
       "      <td>smart-lights-en-close</td>\n",
       "      <td>1.wav</td>\n",
       "    </tr>\n",
       "    <tr>\n",
       "      <th>2</th>\n",
       "      <td>2</td>\n",
       "      <td>['a', 'l', 't͡ʃʲ', 'a', 's', 't', 'ə', 'v', 'a...</td>\n",
       "      <td>2</td>\n",
       "      <td>SetLightBrightness</td>\n",
       "      <td>Adjust the bedroom light intensity to thirty nine</td>\n",
       "      <td>smart-lights-en-close</td>\n",
       "      <td>10.wav</td>\n",
       "    </tr>\n",
       "    <tr>\n",
       "      <th>3</th>\n",
       "      <td>3</td>\n",
       "      <td>['t͡ɕ', 'ɛ', 'n', 'j', 'u', 'n', 'p', 'uə', 'ʁ...</td>\n",
       "      <td>3</td>\n",
       "      <td>SetLightColor</td>\n",
       "      <td>Can you please change the light color to pink</td>\n",
       "      <td>smart-lights-en-close</td>\n",
       "      <td>100.wav</td>\n",
       "    </tr>\n",
       "    <tr>\n",
       "      <th>4</th>\n",
       "      <td>4</td>\n",
       "      <td>['ts', 'ɛ', 'ɪ', 'ə', 'n', 'd', 'ɑ', 'l', 'a',...</td>\n",
       "      <td>2</td>\n",
       "      <td>SetLightBrightness</td>\n",
       "      <td>Set the brightness to five.</td>\n",
       "      <td>smart-lights-en-close</td>\n",
       "      <td>1000.wav</td>\n",
       "    </tr>\n",
       "    <tr>\n",
       "      <th>...</th>\n",
       "      <td>...</td>\n",
       "      <td>...</td>\n",
       "      <td>...</td>\n",
       "      <td>...</td>\n",
       "      <td>...</td>\n",
       "      <td>...</td>\n",
       "      <td>...</td>\n",
       "    </tr>\n",
       "    <tr>\n",
       "      <th>1655</th>\n",
       "      <td>1655</td>\n",
       "      <td>['ʃ', 'ɒ', 's', 'ɪ', 'm', 'a', 'j', 'ð', 'ɛ', ...</td>\n",
       "      <td>2</td>\n",
       "      <td>SetLightBrightness</td>\n",
       "      <td>Set the brightness level of light to twenty</td>\n",
       "      <td>smart-lights-en-close</td>\n",
       "      <td>995.wav</td>\n",
       "    </tr>\n",
       "    <tr>\n",
       "      <th>1656</th>\n",
       "      <td>1656</td>\n",
       "      <td>['t͡ʃ', 'a', 'l', 's', 'ɛ', 'f', 'ʏ', 'r', 'a'...</td>\n",
       "      <td>2</td>\n",
       "      <td>SetLightBrightness</td>\n",
       "      <td>Set the brightness level to seventy-three</td>\n",
       "      <td>smart-lights-en-close</td>\n",
       "      <td>996.wav</td>\n",
       "    </tr>\n",
       "    <tr>\n",
       "      <th>1657</th>\n",
       "      <td>1657</td>\n",
       "      <td>['t͡ʃ', 'a', 'l', 's', 'ɪ', 'b', 'a', 'ɪ', 'ɛ'...</td>\n",
       "      <td>2</td>\n",
       "      <td>SetLightBrightness</td>\n",
       "      <td>Set the brightness of the light bulbs to fifty.</td>\n",
       "      <td>smart-lights-en-close</td>\n",
       "      <td>997.wav</td>\n",
       "    </tr>\n",
       "    <tr>\n",
       "      <th>1658</th>\n",
       "      <td>1658</td>\n",
       "      <td>['zʲ', 'a', 's', 't', 'ə', 'b', 'ɹ', 'a', 'ɪ',...</td>\n",
       "      <td>2</td>\n",
       "      <td>SetLightBrightness</td>\n",
       "      <td>Set the brightness on the light bulbs to fifty.</td>\n",
       "      <td>smart-lights-en-close</td>\n",
       "      <td>998.wav</td>\n",
       "    </tr>\n",
       "    <tr>\n",
       "      <th>1659</th>\n",
       "      <td>1659</td>\n",
       "      <td>['ts', 'ɛ', 's', 't', 'ə', 'm', 'p', 'ɾ', 'a',...</td>\n",
       "      <td>2</td>\n",
       "      <td>SetLightBrightness</td>\n",
       "      <td>Set the brightness to fifty.</td>\n",
       "      <td>smart-lights-en-close</td>\n",
       "      <td>999.wav</td>\n",
       "    </tr>\n",
       "  </tbody>\n",
       "</table>\n",
       "<p>1660 rows × 7 columns</p>\n",
       "</div>"
      ],
      "text/plain": [
       "        id                                             phones  label  \\\n",
       "0        0  ['ɒ', 's', 't', 'ɻ̩', 'v', 'ɒ', 'i', 'b̞', 'ɔ'...      5   \n",
       "1        1  ['a', 'x', 'ə', 'v', 'ɪ', 'n', 't', 'v', 'ɛ', ...      5   \n",
       "2        2  ['a', 'l', 't͡ʃʲ', 'a', 's', 't', 'ə', 'v', 'a...      2   \n",
       "3        3  ['t͡ɕ', 'ɛ', 'n', 'j', 'u', 'n', 'p', 'uə', 'ʁ...      3   \n",
       "4        4  ['ts', 'ɛ', 'ɪ', 'ə', 'n', 'd', 'ɑ', 'l', 'a',...      2   \n",
       "...    ...                                                ...    ...   \n",
       "1655  1655  ['ʃ', 'ɒ', 's', 'ɪ', 'm', 'a', 'j', 'ð', 'ɛ', ...      2   \n",
       "1656  1656  ['t͡ʃ', 'a', 'l', 's', 'ɛ', 'f', 'ʏ', 'r', 'a'...      2   \n",
       "1657  1657  ['t͡ʃ', 'a', 'l', 's', 'ɪ', 'b', 'a', 'ɪ', 'ɛ'...      2   \n",
       "1658  1658  ['zʲ', 'a', 's', 't', 'ə', 'b', 'ɹ', 'a', 'ɪ',...      2   \n",
       "1659  1659  ['ts', 'ɛ', 's', 't', 'ə', 'm', 'p', 'ɾ', 'a',...      2   \n",
       "\n",
       "                  intent                                               text  \\\n",
       "0          SwitchLightOn       Activate all the lights in the entire house.   \n",
       "1          SwitchLightOn                           Activate basement lights   \n",
       "2     SetLightBrightness  Adjust the bedroom light intensity to thirty nine   \n",
       "3          SetLightColor      Can you please change the light color to pink   \n",
       "4     SetLightBrightness                        Set the brightness to five.   \n",
       "...                  ...                                                ...   \n",
       "1655  SetLightBrightness        Set the brightness level of light to twenty   \n",
       "1656  SetLightBrightness          Set the brightness level to seventy-three   \n",
       "1657  SetLightBrightness   Set the brightness of the light bulbs to fifty.    \n",
       "1658  SetLightBrightness    Set the brightness on the light bulbs to fifty.   \n",
       "1659  SetLightBrightness                       Set the brightness to fifty.   \n",
       "\n",
       "                  data-type      file  \n",
       "0     smart-lights-en-close     0.wav  \n",
       "1     smart-lights-en-close     1.wav  \n",
       "2     smart-lights-en-close    10.wav  \n",
       "3     smart-lights-en-close   100.wav  \n",
       "4     smart-lights-en-close  1000.wav  \n",
       "...                     ...       ...  \n",
       "1655  smart-lights-en-close   995.wav  \n",
       "1656  smart-lights-en-close   996.wav  \n",
       "1657  smart-lights-en-close   997.wav  \n",
       "1658  smart-lights-en-close   998.wav  \n",
       "1659  smart-lights-en-close   999.wav  \n",
       "\n",
       "[1660 rows x 7 columns]"
      ]
     },
     "execution_count": 12,
     "metadata": {},
     "output_type": "execute_result"
    }
   ],
   "source": [
    "df_light_en"
   ]
  },
  {
   "cell_type": "code",
   "execution_count": 13,
   "id": "sapphire-weather",
   "metadata": {},
   "outputs": [],
   "source": [
    "df_speaker_en = pd.read_csv(train_speaker_en, header=0)"
   ]
  },
  {
   "cell_type": "code",
   "execution_count": 17,
   "id": "transsexual-illness",
   "metadata": {},
   "outputs": [
    {
     "data": {
      "text/plain": [
       "array([8])"
      ]
     },
     "execution_count": 17,
     "metadata": {},
     "output_type": "execute_result"
    }
   ],
   "source": [
    "df_speaker_en['label'].unique()"
   ]
  },
  {
   "cell_type": "code",
   "execution_count": 19,
   "id": "cutting-fifteen",
   "metadata": {},
   "outputs": [],
   "source": [
    "df_speaker_fr = pd.read_csv(train_speaker_fr, header=0)"
   ]
  },
  {
   "cell_type": "code",
   "execution_count": 21,
   "id": "manual-links",
   "metadata": {},
   "outputs": [
    {
     "data": {
      "text/plain": [
       "array([8])"
      ]
     },
     "execution_count": 21,
     "metadata": {},
     "output_type": "execute_result"
    }
   ],
   "source": [
    "df_speaker_fr['label'].unique()"
   ]
  },
  {
   "cell_type": "code",
   "execution_count": 28,
   "id": "seeing-nursery",
   "metadata": {},
   "outputs": [],
   "source": [
    "df_en_all = pd.concat([df_speaker_en, df_light_en], ignore_index=True)"
   ]
  },
  {
   "cell_type": "code",
   "execution_count": 33,
   "id": "technical-electric",
   "metadata": {},
   "outputs": [
    {
     "data": {
      "text/plain": [
       "8    1278\n",
       "2     296\n",
       "3     294\n",
       "4     276\n",
       "1     269\n",
       "0     268\n",
       "5     257\n",
       "Name: label, dtype: int64"
      ]
     },
     "execution_count": 33,
     "metadata": {},
     "output_type": "execute_result"
    }
   ],
   "source": [
    "df_en_all['label'].value_counts()"
   ]
  },
  {
   "cell_type": "code",
   "execution_count": 80,
   "id": "stuffed-crawford",
   "metadata": {},
   "outputs": [],
   "source": [
    "def save_train_test(df_train, df_test, save_dir=\"../memory\"):\n",
    "    df_train.to_csv(os.path.join(save_dir, \"train.csv\"), encoding='utf-8', index=False)\n",
    "    df_test.to_csv(os.path.join(save_dir, \"test.csv\"), encoding='utf-8', index=False)\n",
    "    print(\"train.csv and test.csv saved in {}\".format(os.path.abspath(save_dir)))"
   ]
  },
  {
   "cell_type": "code",
   "execution_count": 39,
   "id": "selected-cowboy",
   "metadata": {},
   "outputs": [],
   "source": [
    "train_en, test_en = train_test_split(df_en_all, random_state=1, test_size=0.15, shuffle=True)"
   ]
  },
  {
   "cell_type": "code",
   "execution_count": 41,
   "id": "consecutive-better",
   "metadata": {},
   "outputs": [
    {
     "data": {
      "text/plain": [
       "8    177\n",
       "3     48\n",
       "0     48\n",
       "4     45\n",
       "5     42\n",
       "2     42\n",
       "1     39\n",
       "Name: label, dtype: int64"
      ]
     },
     "execution_count": 41,
     "metadata": {},
     "output_type": "execute_result"
    }
   ],
   "source": [
    "test_en['label'].value_counts()"
   ]
  },
  {
   "cell_type": "code",
   "execution_count": 46,
   "id": "natural-answer",
   "metadata": {},
   "outputs": [],
   "source": [
    "train_en = train_en.reset_index(drop=True)\n",
    "test_en = test_en.reset_index(drop=True)"
   ]
  },
  {
   "cell_type": "code",
   "execution_count": 51,
   "id": "patient-frontier",
   "metadata": {},
   "outputs": [],
   "source": [
    "save_train_test(train_en, test_en)"
   ]
  },
  {
   "cell_type": "code",
   "execution_count": 62,
   "id": "reasonable-herald",
   "metadata": {},
   "outputs": [],
   "source": [
    "def build_phone_vocab(df_all):\n",
    "    phone2idx = {}\n",
    "    # Convert string of list to string, i.e., \"['a', 'b']\" to ['a', 'b']\n",
    "    df_all['phones'] = df_all['phones'].apply(lambda x: literal_eval(x))\n",
    "    phones_samples = df_all['phones'].to_numpy()\n",
    "    for sample in phones_samples:\n",
    "        for phone in sample:\n",
    "            if phone not in phone2idx:\n",
    "                phone2idx[phone] = len(phone2idx)\n",
    "    return phone2idx"
   ]
  },
  {
   "cell_type": "code",
   "execution_count": 81,
   "id": "expired-violation",
   "metadata": {},
   "outputs": [],
   "source": [
    "def save_phone_idx(phone2idx, save_dir=\"../memory\"):\n",
    "    with open(os.path.join(save_dir, \"phone_idx.json\"), 'w', encoding='utf-8') as f:\n",
    "        json.dump(phone2idx, f)\n",
    "    print(\"phone_idx.json saved in {}\".format(os.path.abspath(save_dir)))"
   ]
  },
  {
   "cell_type": "code",
   "execution_count": 63,
   "id": "remarkable-dressing",
   "metadata": {},
   "outputs": [],
   "source": [
    "phone2idx = build_phone_vocab(df_en_all)"
   ]
  },
  {
   "cell_type": "code",
   "execution_count": 72,
   "id": "visible-bahrain",
   "metadata": {},
   "outputs": [],
   "source": [
    "save_phone_idx(phone2idx)"
   ]
  },
  {
   "cell_type": "code",
   "execution_count": 83,
   "id": "irish-flavor",
   "metadata": {},
   "outputs": [
    {
     "data": {
      "text/plain": [
       "121"
      ]
     },
     "execution_count": 83,
     "metadata": {},
     "output_type": "execute_result"
    }
   ],
   "source": [
    "len(phone2idx)"
   ]
  },
  {
   "cell_type": "markdown",
   "id": "conceptual-franklin",
   "metadata": {},
   "source": [
    "### Save data as \"train_x.npy\" and \"train_y.npy\""
   ]
  },
  {
   "cell_type": "code",
   "execution_count": 11,
   "id": "abandoned-electricity",
   "metadata": {},
   "outputs": [],
   "source": [
    "def load_phone_idx(file_path=\"../memory/phone_idx.json\"):\n",
    "    with open(file_path, 'r', encoding='utf-8') as f:\n",
    "        return json.load(f)"
   ]
  },
  {
   "cell_type": "code",
   "execution_count": 2,
   "id": "colored-assembly",
   "metadata": {},
   "outputs": [],
   "source": [
    "def read_data(filename):\n",
    "    return pd.read_csv(filename)"
   ]
  },
  {
   "cell_type": "code",
   "execution_count": 3,
   "id": "banned-sustainability",
   "metadata": {},
   "outputs": [
    {
     "name": "stdout",
     "output_type": "stream",
     "text": [
      "preprocess_data.ipynb  preprocess_enfr.py\r\n"
     ]
    }
   ],
   "source": [
    "ls"
   ]
  },
  {
   "cell_type": "code",
   "execution_count": 35,
   "id": "natural-shelf",
   "metadata": {},
   "outputs": [],
   "source": [
    "train_en,test_en = read_data(\"../memory/enfr/train.csv\"), read_data(\"../memory/enfr/test.csv\")"
   ]
  },
  {
   "cell_type": "code",
   "execution_count": 34,
   "id": "entertaining-shaft",
   "metadata": {},
   "outputs": [],
   "source": [
    "def get_xy(df, phone2idx):\n",
    "    df_phones = df['phones'].apply(lambda x: literal_eval(x))\n",
    "    phones_samples = df_phones.to_numpy()\n",
    "    labels = df['label'].to_numpy()\n",
    "    X_all = []\n",
    "    for sample in phones_samples:\n",
    "        x = [phone2idx[phone] for phone in sample]\n",
    "        X_all.append(x)\n",
    "    X_all = np.array(X_all, dtype=object)\n",
    "    return X_all, labels"
   ]
  },
  {
   "cell_type": "code",
   "execution_count": 26,
   "id": "logical-candy",
   "metadata": {},
   "outputs": [],
   "source": [
    "phone2idx = load_phone_idx(\"../memory/enfr/phone_idx.json\")"
   ]
  },
  {
   "cell_type": "code",
   "execution_count": 37,
   "id": "departmental-cleanup",
   "metadata": {},
   "outputs": [],
   "source": [
    "train_x, train_labels = get_xy(train_en, phone2idx)"
   ]
  },
  {
   "cell_type": "code",
   "execution_count": 28,
   "id": "featured-microphone",
   "metadata": {},
   "outputs": [
    {
     "data": {
      "text/plain": [
       "True"
      ]
     },
     "execution_count": 28,
     "metadata": {},
     "output_type": "execute_result"
    }
   ],
   "source": [
    "train_x.shape == train_labels.shape"
   ]
  },
  {
   "cell_type": "code",
   "execution_count": 30,
   "id": "responsible-density",
   "metadata": {},
   "outputs": [],
   "source": [
    "def save_numpy_data(filename, data):\n",
    "    with open(filename, 'wb') as f:\n",
    "        np.save(f, data)"
   ]
  },
  {
   "cell_type": "code",
   "execution_count": 32,
   "id": "portuguese-extraction",
   "metadata": {},
   "outputs": [],
   "source": [
    "save_numpy_data(\"../memory/enfr/en/train_x.npy\", train_x)\n",
    "save_numpy_data(\"../memory/enfr/en/train_labels.npy\", train_labels)"
   ]
  },
  {
   "cell_type": "code",
   "execution_count": null,
   "id": "resistant-mississippi",
   "metadata": {},
   "outputs": [],
   "source": []
  }
 ],
 "metadata": {
  "kernelspec": {
   "display_name": "Environment (conda_pytorch_p36)",
   "language": "python",
   "name": "conda_pytorch_p36"
  },
  "language_info": {
   "codemirror_mode": {
    "name": "ipython",
    "version": 3
   },
   "file_extension": ".py",
   "mimetype": "text/x-python",
   "name": "python",
   "nbconvert_exporter": "python",
   "pygments_lexer": "ipython3",
   "version": "3.6.13"
  }
 },
 "nbformat": 4,
 "nbformat_minor": 5
}
