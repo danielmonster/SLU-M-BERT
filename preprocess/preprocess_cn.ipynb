{
 "cells": [
  {
   "cell_type": "code",
   "execution_count": 29,
   "id": "internal-scenario",
   "metadata": {},
   "outputs": [],
   "source": [
    "import pandas as pd\n",
    "import numpy as np\n",
    "import os\n",
    "from sklearn.model_selection import train_test_split\n",
    "from ast import literal_eval\n",
    "import json"
   ]
  },
  {
   "cell_type": "code",
   "execution_count": 30,
   "id": "substantial-anger",
   "metadata": {},
   "outputs": [],
   "source": [
    "train = \"../Datasets/spaced_catslu/train.csv\"\n",
    "vad = \"../Datasets/spaced_catslu/development.csv\"\n",
    "test = \"../Datasets/spaced_catslu/test.csv\""
   ]
  },
  {
   "cell_type": "code",
   "execution_count": 31,
   "id": "consistent-greece",
   "metadata": {},
   "outputs": [],
   "source": [
    "train = pd.read_csv(train, header=0)\n",
    "vad = pd.read_csv(vad, header=0)\n",
    "test = pd.read_csv(test, header=0)"
   ]
  },
  {
   "cell_type": "code",
   "execution_count": 32,
   "id": "stylish-adoption",
   "metadata": {},
   "outputs": [
    {
     "data": {
      "text/plain": [
       "'n a l ts a ɪ n ʁ i m iː ʐ ə ʁ w a lʲ ə v a ə'"
      ]
     },
     "execution_count": 32,
     "metadata": {},
     "output_type": "execute_result"
    }
   ],
   "source": [
    "train['transcript'][0]"
   ]
  },
  {
   "cell_type": "code",
   "execution_count": 33,
   "id": "assisted-album",
   "metadata": {},
   "outputs": [],
   "source": [
    "def build_phone_vocab(df_all, temp, cnt_):\n",
    "    length = len(train['transcript'])\n",
    "    cnt = cnt_\n",
    "    for i in range(length):\n",
    "        if type(train['transcript'][i]) != str:\n",
    "            continue\n",
    "        for phone in train['transcript'][i]:\n",
    "            if phone not in temp:\n",
    "                temp[phone] = cnt\n",
    "                cnt += 1\n",
    "    return temp, cnt"
   ]
  },
  {
   "cell_type": "code",
   "execution_count": 9,
   "id": "capital-louisville",
   "metadata": {},
   "outputs": [],
   "source": [
    "def save_phone_idx(phone2idx, save_dir=\"../memory/cn\"):\n",
    "    with open(os.path.join(save_dir, \"phone_idx.json\"), 'w', encoding='utf-8') as f:\n",
    "        json.dump(phone2idx, f)\n",
    "    print(\"phone_idx.json saved in {}\".format(os.path.abspath(save_dir)))"
   ]
  },
  {
   "cell_type": "code",
   "execution_count": 10,
   "id": "express-notebook",
   "metadata": {},
   "outputs": [],
   "source": [
    "phone2idx, cnt = build_phone_vocab(train, dict(), 0)\n",
    "phone2idx, cnt = build_phone_vocab(vad, phone2idx, cnt)\n",
    "phone2idx, cnt = build_phone_vocab(test, phone2idx,cnt)"
   ]
  },
  {
   "cell_type": "code",
   "execution_count": 11,
   "id": "large-religious",
   "metadata": {},
   "outputs": [
    {
     "name": "stdout",
     "output_type": "stream",
     "text": [
      "phone_idx.json saved in /home/ubuntu/SLU-M-BERT/memory/cn\n"
     ]
    }
   ],
   "source": [
    "save_phone_idx(phone2idx)"
   ]
  },
  {
   "cell_type": "code",
   "execution_count": 12,
   "id": "rotary-society",
   "metadata": {},
   "outputs": [
    {
     "data": {
      "text/plain": [
       "78"
      ]
     },
     "execution_count": 12,
     "metadata": {},
     "output_type": "execute_result"
    }
   ],
   "source": [
    "len(phone2idx)"
   ]
  },
  {
   "cell_type": "markdown",
   "id": "enhanced-glass",
   "metadata": {},
   "source": [
    "### Save data as \"train_x.npy\" and \"train_y.npy\""
   ]
  },
  {
   "cell_type": "code",
   "execution_count": 34,
   "id": "stretch-freedom",
   "metadata": {},
   "outputs": [],
   "source": [
    "def load_phone_idx(file_path=\"../memory/cn/phone_idx.json\"):\n",
    "    with open(file_path, 'r', encoding='utf-8') as f:\n",
    "        return json.load(f)"
   ]
  },
  {
   "cell_type": "code",
   "execution_count": 35,
   "id": "elect-explanation",
   "metadata": {},
   "outputs": [],
   "source": [
    "def read_data(filename):\n",
    "    return pd.read_csv(filename)"
   ]
  },
  {
   "cell_type": "code",
   "execution_count": 36,
   "id": "periodic-decrease",
   "metadata": {},
   "outputs": [],
   "source": [
    "def get_xy(df, phone2idx):\n",
    "    length = len(df)\n",
    "    labels = df['label']\n",
    "    labels_return = list()\n",
    "    df = df['transcript']\n",
    "    X_all = list()\n",
    "    for i in range(length):\n",
    "        if type(df[i]) != str:\n",
    "            continue\n",
    "        sample = df[i]\n",
    "        x = [phone2idx[phone] for phone in sample]\n",
    "        X_all.append(x)\n",
    "        labels_return.append(labels[i])\n",
    "    X_all = np.array(X_all, dtype=object)\n",
    "    return X_all, labels_return"
   ]
  },
  {
   "cell_type": "code",
   "execution_count": 37,
   "id": "collective-significance",
   "metadata": {},
   "outputs": [],
   "source": [
    "phone2idx = load_phone_idx(\"../memory/cn/phone_idx.json\")"
   ]
  },
  {
   "cell_type": "code",
   "execution_count": 38,
   "id": "previous-latin",
   "metadata": {},
   "outputs": [],
   "source": [
    "train_x, train_labels = get_xy(train, phone2idx)\n",
    "vad_x, vad_labels = get_xy(vad, phone2idx)\n",
    "test_x, test_labels = get_xy(test, phone2idx)"
   ]
  },
  {
   "cell_type": "code",
   "execution_count": 40,
   "id": "about-lunch",
   "metadata": {},
   "outputs": [],
   "source": [
    "def save_numpy_data(filename, data):\n",
    "    with open(filename, 'wb') as f:\n",
    "        np.save(f, data)"
   ]
  },
  {
   "cell_type": "code",
   "execution_count": 43,
   "id": "congressional-finish",
   "metadata": {},
   "outputs": [],
   "source": [
    "save_numpy_data(\"../memory/cn/train_x.npy\", train_x)\n",
    "save_numpy_data(\"../memory/cn/train_y.npy\", train_labels)\n",
    "save_numpy_data(\"../memory/cn/dev_x.npy\", vad_x)\n",
    "save_numpy_data(\"../memory/cn/dev_y.npy\", vad_labels)\n",
    "save_numpy_data(\"../memory/cn/test_x.npy\", test_x)\n",
    "save_numpy_data(\"../memory/cn/test_y.npy\", test_labels)"
   ]
  },
  {
   "cell_type": "code",
   "execution_count": null,
   "id": "working-guidance",
   "metadata": {},
   "outputs": [],
   "source": []
  }
 ],
 "metadata": {
  "kernelspec": {
   "display_name": "Python 3",
   "language": "python",
   "name": "python3"
  },
  "language_info": {
   "codemirror_mode": {
    "name": "ipython",
    "version": 3
   },
   "file_extension": ".py",
   "mimetype": "text/x-python",
   "name": "python",
   "nbconvert_exporter": "python",
   "pygments_lexer": "ipython3",
   "version": "3.7.10"
  }
 },
 "nbformat": 4,
 "nbformat_minor": 5
}
