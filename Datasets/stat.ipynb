{
 "cells": [
  {
   "cell_type": "code",
   "execution_count": 159,
   "id": "emerging-radical",
   "metadata": {},
   "outputs": [],
   "source": [
    "import pandas as pd\n",
    "import numpy as np\n",
    "import os\n",
    "from ast import literal_eval\n",
    "import seaborn as sns\n",
    "import matplotlib.pyplot as plt"
   ]
  },
  {
   "cell_type": "code",
   "execution_count": 34,
   "id": "incorrect-teacher",
   "metadata": {},
   "outputs": [],
   "source": [
    "CN_DIR = \"catslu_v2/preprocessed/audio\"\n",
    "EN_DIR = \"smart-devices-en-fr\"\n",
    "CN_LM_DIR = \"chinese_LM_data\"\n",
    "EN_LM_DIR = \"en_LM_data\""
   ]
  },
  {
   "cell_type": "code",
   "execution_count": 35,
   "id": "current-census",
   "metadata": {},
   "outputs": [],
   "source": [
    "def read_cn(dir):\n",
    "    df = pd.read_csv(os.path.join(dir, 'train.csv'), header=0)\n",
    "    df = df.dropna()\n",
    "    return df\n",
    "\n",
    "def read_en(dir):\n",
    "    df_light_en = pd.read_csv(os.path.join(dir, \"smart-lights-en-close.csv\"), header=0)\n",
    "    df_speaker_en = pd.read_csv(os.path.join(dir, \"smart-speaker-en-close.csv\"), header=0)\n",
    "    df = pd.concat([df_light_en, df_speaker_en], ignore_index=True)\n",
    "    return df\n",
    "\n",
    "def read_cn_lm(dir):\n",
    "    df1 = pd.read_csv(os.path.join(dir, \"partition_A.csv\"))\n",
    "    df2 = pd.read_csv(os.path.join(dir, \"partition_B.csv\"))\n",
    "    df3 = pd.read_csv(os.path.join(dir, \"partition_C.csv\"))\n",
    "    df = pd.concat([df1, df2, df3], ignore_index=True)\n",
    "    return df\n",
    "\n",
    "def read_en_lm(dir):\n",
    "    df1 = pd.read_csv(os.path.join(dir, \"A_0_en.csv\"))\n",
    "    df2 = pd.read_csv(os.path.join(dir, \"B_1_en.csv\"))\n",
    "    df3 = pd.read_csv(os.path.join(dir, \"C_2_en.csv\"))\n",
    "    df4 = pd.read_csv(os.path.join(dir, \"D_3_en.csv\"))\n",
    "    df = pd.concat([df1, df2, df3, df4], ignore_index=True)\n",
    "    return df"
   ]
  },
  {
   "cell_type": "code",
   "execution_count": 70,
   "id": "alleged-damage",
   "metadata": {},
   "outputs": [],
   "source": [
    "df_cn = read_cn(CN_DIR)\n",
    "df_en = read_en(EN_DIR)\n",
    "df_cn_lm = read_cn_lm(CN_LM_DIR)\n",
    "df_en_lm = read_en_lm(EN_LM_DIR)"
   ]
  },
  {
   "cell_type": "code",
   "execution_count": 71,
   "id": "designed-adams",
   "metadata": {},
   "outputs": [],
   "source": [
    "cn_phones = df_cn['transcript'].to_numpy()"
   ]
  },
  {
   "cell_type": "code",
   "execution_count": 72,
   "id": "matched-fever",
   "metadata": {},
   "outputs": [],
   "source": [
    "# Format cn phones. \" a b c\" -> \"['a', 'b', 'c']\"\n",
    "temp = []\n",
    "for sample in cn_phones:\n",
    "    x = sample.split(\" \")\n",
    "    temp.append(x)\n",
    "temp = np.array(temp, dtype=object)\n",
    "cn_utterances = temp"
   ]
  },
  {
   "cell_type": "code",
   "execution_count": 73,
   "id": "instant-accounting",
   "metadata": {},
   "outputs": [],
   "source": [
    "en_utterances = df_en['phones'].apply(lambda x: literal_eval(x)).to_numpy()\n",
    "cn_lm_utterances = df_cn_lm['phones'].apply(lambda x: literal_eval(x)).to_numpy()\n",
    "en_lm_utterances = df_en_lm['phones'].apply(lambda x: literal_eval(x)).to_numpy()"
   ]
  },
  {
   "cell_type": "code",
   "execution_count": 119,
   "id": "harmful-circuit",
   "metadata": {},
   "outputs": [],
   "source": [
    "def stat_length(utterances):\n",
    "    # Print the average and the median length of utterances\n",
    "    lengths = []\n",
    "    for sample in utterances:\n",
    "        lengths.append(len(sample))\n",
    "    mean_len, med_len = np.mean(lengths), np.median(lengths)\n",
    "    print(\"Average length of utterances is {}, median length is {}\".format(mean_len, med_len))\n",
    "    return lengths"
   ]
  },
  {
   "cell_type": "code",
   "execution_count": 80,
   "id": "organizational-chocolate",
   "metadata": {},
   "outputs": [],
   "source": [
    "def count_phones(utterances):\n",
    "    phone_freq = {}\n",
    "    for sample in utterances:\n",
    "        for phone in sample:\n",
    "            if phone not in phone_freq:\n",
    "                phone_freq[phone] = 0\n",
    "            phone_freq[phone] += 1\n",
    "    return phone_freq"
   ]
  },
  {
   "cell_type": "code",
   "execution_count": 120,
   "id": "streaming-buffer",
   "metadata": {},
   "outputs": [
    {
     "name": "stdout",
     "output_type": "stream",
     "text": [
      "Average length of utterances is 16.47481910274964, median length is 16.0\n"
     ]
    }
   ],
   "source": [
    "cn_lens = stat_length(cn_utterances)\n",
    "cn_freq = count_phones(cn_utterances)"
   ]
  },
  {
   "cell_type": "code",
   "execution_count": 121,
   "id": "persistent-mount",
   "metadata": {},
   "outputs": [
    {
     "name": "stdout",
     "output_type": "stream",
     "text": [
      "Average length of utterances is 23.506466984343092, median length is 23.0\n"
     ]
    }
   ],
   "source": [
    "en_lens = stat_length(en_utterances)\n",
    "en_freq = count_phones(en_utterances)"
   ]
  },
  {
   "cell_type": "code",
   "execution_count": 122,
   "id": "cheap-appeal",
   "metadata": {},
   "outputs": [
    {
     "name": "stdout",
     "output_type": "stream",
     "text": [
      "Average length of utterances is 83.8419, median length is 84.0\n"
     ]
    }
   ],
   "source": [
    "cn_lm_lens = stat_length(cn_lm_utterances)\n",
    "cn_lm_freq = count_phones(cn_lm_utterances)"
   ]
  },
  {
   "cell_type": "code",
   "execution_count": 123,
   "id": "considerable-correction",
   "metadata": {},
   "outputs": [
    {
     "name": "stdout",
     "output_type": "stream",
     "text": [
      "Average length of utterances is 62.947917920327356, median length is 50.0\n"
     ]
    }
   ],
   "source": [
    "en_lm_lens = stat_length(en_lm_utterances)\n",
    "en_lm_freq = count_phones(en_lm_utterances)"
   ]
  },
  {
   "cell_type": "code",
   "execution_count": 89,
   "id": "understanding-attempt",
   "metadata": {},
   "outputs": [],
   "source": [
    "cn_freq = dict(sorted(cn_freq.items(), key=lambda item: item[1], reverse=True))\n",
    "en_freq = dict(sorted(en_freq.items(), key=lambda item: item[1], reverse=True))\n",
    "cn_lm_freq = dict(sorted(cn_lm_freq.items(), key=lambda item: item[1], reverse=True))\n",
    "en_lm_freq = dict(sorted(en_lm_freq.items(), key=lambda item: item[1], reverse=True))"
   ]
  },
  {
   "cell_type": "code",
   "execution_count": 97,
   "id": "capital-pontiac",
   "metadata": {},
   "outputs": [],
   "source": [
    "def get_plot_df(freq, most_freq=None):\n",
    "    df = pd.DataFrame(freq.items(), columns=['phone', 'count'])\n",
    "    if most_freq:\n",
    "        # Only get the most frequent phones\n",
    "        df = df[:most_freq]\n",
    "    return df"
   ]
  },
  {
   "cell_type": "code",
   "execution_count": 109,
   "id": "collect-capital",
   "metadata": {},
   "outputs": [
    {
     "data": {
      "text/html": [
       "<div>\n",
       "<style scoped>\n",
       "    .dataframe tbody tr th:only-of-type {\n",
       "        vertical-align: middle;\n",
       "    }\n",
       "\n",
       "    .dataframe tbody tr th {\n",
       "        vertical-align: top;\n",
       "    }\n",
       "\n",
       "    .dataframe thead th {\n",
       "        text-align: right;\n",
       "    }\n",
       "</style>\n",
       "<table border=\"1\" class=\"dataframe\">\n",
       "  <thead>\n",
       "    <tr style=\"text-align: right;\">\n",
       "      <th></th>\n",
       "      <th>phone</th>\n",
       "      <th>count</th>\n",
       "    </tr>\n",
       "  </thead>\n",
       "  <tbody>\n",
       "    <tr>\n",
       "      <th>0</th>\n",
       "      <td>a</td>\n",
       "      <td>11569</td>\n",
       "    </tr>\n",
       "    <tr>\n",
       "      <th>1</th>\n",
       "      <td>i</td>\n",
       "      <td>6323</td>\n",
       "    </tr>\n",
       "    <tr>\n",
       "      <th>2</th>\n",
       "      <td>ɒ</td>\n",
       "      <td>5532</td>\n",
       "    </tr>\n",
       "    <tr>\n",
       "      <th>3</th>\n",
       "      <td>n</td>\n",
       "      <td>4589</td>\n",
       "    </tr>\n",
       "    <tr>\n",
       "      <th>4</th>\n",
       "      <td>o</td>\n",
       "      <td>4576</td>\n",
       "    </tr>\n",
       "    <tr>\n",
       "      <th>5</th>\n",
       "      <td>ɪ</td>\n",
       "      <td>4275</td>\n",
       "    </tr>\n",
       "    <tr>\n",
       "      <th>6</th>\n",
       "      <td>uə</td>\n",
       "      <td>3916</td>\n",
       "    </tr>\n",
       "    <tr>\n",
       "      <th>7</th>\n",
       "      <td>ɴ</td>\n",
       "      <td>2833</td>\n",
       "    </tr>\n",
       "    <tr>\n",
       "      <th>8</th>\n",
       "      <td>ə</td>\n",
       "      <td>2699</td>\n",
       "    </tr>\n",
       "    <tr>\n",
       "      <th>9</th>\n",
       "      <td>m</td>\n",
       "      <td>2622</td>\n",
       "    </tr>\n",
       "    <tr>\n",
       "      <th>10</th>\n",
       "      <td>j</td>\n",
       "      <td>2537</td>\n",
       "    </tr>\n",
       "    <tr>\n",
       "      <th>11</th>\n",
       "      <td>iː</td>\n",
       "      <td>2502</td>\n",
       "    </tr>\n",
       "    <tr>\n",
       "      <th>12</th>\n",
       "      <td>ŋ</td>\n",
       "      <td>2422</td>\n",
       "    </tr>\n",
       "    <tr>\n",
       "      <th>13</th>\n",
       "      <td>ʌ</td>\n",
       "      <td>2375</td>\n",
       "    </tr>\n",
       "    <tr>\n",
       "      <th>14</th>\n",
       "      <td>t</td>\n",
       "      <td>2226</td>\n",
       "    </tr>\n",
       "    <tr>\n",
       "      <th>15</th>\n",
       "      <td>e</td>\n",
       "      <td>2075</td>\n",
       "    </tr>\n",
       "    <tr>\n",
       "      <th>16</th>\n",
       "      <td>æ</td>\n",
       "      <td>1983</td>\n",
       "    </tr>\n",
       "    <tr>\n",
       "      <th>17</th>\n",
       "      <td>ʁ</td>\n",
       "      <td>1797</td>\n",
       "    </tr>\n",
       "    <tr>\n",
       "      <th>18</th>\n",
       "      <td>ɕ</td>\n",
       "      <td>1773</td>\n",
       "    </tr>\n",
       "    <tr>\n",
       "      <th>19</th>\n",
       "      <td>tɕ</td>\n",
       "      <td>1759</td>\n",
       "    </tr>\n",
       "  </tbody>\n",
       "</table>\n",
       "</div>"
      ],
      "text/plain": [
       "   phone  count\n",
       "0      a  11569\n",
       "1      i   6323\n",
       "2      ɒ   5532\n",
       "3      n   4589\n",
       "4      o   4576\n",
       "5      ɪ   4275\n",
       "6     uə   3916\n",
       "7      ɴ   2833\n",
       "8      ə   2699\n",
       "9      m   2622\n",
       "10     j   2537\n",
       "11    iː   2502\n",
       "12     ŋ   2422\n",
       "13     ʌ   2375\n",
       "14     t   2226\n",
       "15     e   2075\n",
       "16     æ   1983\n",
       "17     ʁ   1797\n",
       "18     ɕ   1773\n",
       "19    tɕ   1759"
      ]
     },
     "execution_count": 109,
     "metadata": {},
     "output_type": "execute_result"
    }
   ],
   "source": [
    "cn_freq_df = get_plot_df(cn_freq, 20)\n",
    "en_freq_df = get_plot_df(en_freq, 20)\n",
    "cnlm_freq_df = get_plot_df(cn_lm_freq, 20)\n",
    "enlm_freq_df = get_plot_df(en_lm_freq, 20)\n",
    "cn_freq_df"
   ]
  },
  {
   "cell_type": "code",
   "execution_count": 140,
   "id": "basic-elevation",
   "metadata": {},
   "outputs": [
    {
     "data": {
      "image/png": "[encoded data removed]",
      "text/plain": [
       "<Figure size 432x288 with 1 Axes>"
      ]
     },
     "metadata": {
      "needs_background": "light"
     },
     "output_type": "display_data"
    }
   ],
   "source": [
    "plot = sns.barplot(x=\"phone\", y=\"count\", data=cn_freq_df).set_title(\"Chinese dataset\")\n",
    "plot.figure.savefig(\"phone_cn.png\")"
   ]
  },
  {
   "cell_type": "code",
   "execution_count": 141,
   "id": "occupied-ecology",
   "metadata": {},
   "outputs": [
    {
     "data": {
      "image/png": "[encoded data removed]",
      "text/plain": [
       "<Figure size 432x288 with 1 Axes>"
      ]
     },
     "metadata": {
      "needs_background": "light"
     },
     "output_type": "display_data"
    }
   ],
   "source": [
    "plot = sns.barplot(x=\"phone\", y=\"count\", data=en_freq_df).set_title(\"English dataset\")\n",
    "plot.figure.savefig(\"phone_en.png\")"
   ]
  },
  {
   "cell_type": "code",
   "execution_count": 142,
   "id": "later-boston",
   "metadata": {},
   "outputs": [
    {
     "data": {
      "image/png": "[encoded data removed]",
      "text/plain": [
       "<Figure size 432x288 with 1 Axes>"
      ]
     },
     "metadata": {
      "needs_background": "light"
     },
     "output_type": "display_data"
    }
   ],
   "source": [
    "plot = sns.barplot(x=\"phone\", y=\"count\", data=cnlm_freq_df).set_title(\"Chinese LM corpus\")\n",
    "plot.figure.savefig(\"phone_cnlm.png\")"
   ]
  },
  {
   "cell_type": "code",
   "execution_count": 143,
   "id": "psychological-mountain",
   "metadata": {},
   "outputs": [
    {
     "data": {
      "image/png": "[encoded data removed]",
      "text/plain": [
       "<Figure size 432x288 with 1 Axes>"
      ]
     },
     "metadata": {
      "needs_background": "light"
     },
     "output_type": "display_data"
    }
   ],
   "source": [
    "plot = sns.barplot(x=\"phone\", y=\"count\", data=enlm_freq_df).set_title(\"English LM corpus\")\n",
    "plot.figure.savefig(\"phone_enlm.png\")"
   ]
  },
  {
   "cell_type": "code",
   "execution_count": 124,
   "id": "laden-dollar",
   "metadata": {},
   "outputs": [],
   "source": [
    "def get_len_df(lengths):\n",
    "    df = pd.DataFrame(lengths, columns=['length'])\n",
    "    return df"
   ]
  },
  {
   "cell_type": "code",
   "execution_count": 132,
   "id": "junior-accuracy",
   "metadata": {},
   "outputs": [],
   "source": [
    "cn_lens_df = get_len_df(cn_lens)\n",
    "en_lens_df = get_len_df(en_lens)\n",
    "cnlm_lens_df = get_len_df(cn_lm_lens)\n",
    "enlm_lens_df = get_len_df(en_lm_lens)"
   ]
  },
  {
   "cell_type": "code",
   "execution_count": 161,
   "id": "velvet-smile",
   "metadata": {},
   "outputs": [
    {
     "data": {
      "image/png": "[encoded data removed]",
      "text/plain": [
       "<Figure size 360x360 with 1 Axes>"
      ]
     },
     "metadata": {
      "needs_background": "light"
     },
     "output_type": "display_data"
    }
   ],
   "source": [
    "sns.displot(cn_lens_df, x=\"length\")\n",
    "plt.title(\"Chinese dataset\")\n",
    "plt.savefig(\"lens_cn.png\", bbox_inches='tight')"
   ]
  },
  {
   "cell_type": "code",
   "execution_count": 162,
   "id": "relevant-camel",
   "metadata": {},
   "outputs": [
    {
     "data": {
      "image/png": "[encoded data removed]",
      "text/plain": [
       "<Figure size 360x360 with 1 Axes>"
      ]
     },
     "metadata": {
      "needs_background": "light"
     },
     "output_type": "display_data"
    }
   ],
   "source": [
    "sns.displot(en_lens_df, x=\"length\")\n",
    "plt.title(\"English dataset\")\n",
    "plt.savefig(\"lens_en.png\", bbox_inches='tight')"
   ]
  },
  {
   "cell_type": "code",
   "execution_count": 163,
   "id": "together-refund",
   "metadata": {},
   "outputs": [
    {
     "data": {
      "image/png": "[encoded data removed]",
      "text/plain": [
       "<Figure size 360x360 with 1 Axes>"
      ]
     },
     "metadata": {
      "needs_background": "light"
     },
     "output_type": "display_data"
    }
   ],
   "source": [
    "sns.displot(cnlm_lens_df, x=\"length\")\n",
    "plt.title(\"Chinese LM corpus\")\n",
    "plt.savefig(\"lens_cnlm.png\", bbox_inches='tight')"
   ]
  },
  {
   "cell_type": "code",
   "execution_count": 164,
   "id": "national-attempt",
   "metadata": {},
   "outputs": [
    {
     "data": {
      "image/png": "[encoded data removed]",
      "text/plain": [
       "<Figure size 360x360 with 1 Axes>"
      ]
     },
     "metadata": {
      "needs_background": "light"
     },
     "output_type": "display_data"
    }
   ],
   "source": [
    "sns.displot(enlm_lens_df, x=\"length\")\n",
    "plt.title(\"English LM corpus\")\n",
    "plt.savefig(\"lens_enlm.png\", bbox_inches='tight')"
   ]
  },
  {
   "cell_type": "code",
   "execution_count": null,
   "id": "ruled-concentrate",
   "metadata": {},
   "outputs": [],
   "source": []
  },
  {
   "cell_type": "code",
   "execution_count": null,
   "id": "about-mobile",
   "metadata": {},
   "outputs": [],
   "source": []
  }
 ],
 "metadata": {
  "kernelspec": {
   "display_name": "Python 3",
   "language": "python",
   "name": "python3"
  },
  "language_info": {
   "codemirror_mode": {
    "name": "ipython",
    "version": 3
   },
   "file_extension": ".py",
   "mimetype": "text/x-python",
   "name": "python",
   "nbconvert_exporter": "python",
   "pygments_lexer": "ipython3",
   "version": "3.7.10"
  }
 },
 "nbformat": 4,
 "nbformat_minor": 5
}
